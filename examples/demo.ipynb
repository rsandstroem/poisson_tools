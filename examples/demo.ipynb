{
 "cells": [
  {
   "cell_type": "markdown",
   "metadata": {},
   "source": [
    "# Demo"
   ]
  },
  {
   "cell_type": "code",
   "execution_count": 1,
   "metadata": {},
   "outputs": [
    {
     "name": "stdout",
     "output_type": "stream",
     "text": [
      "Requirement already satisfied: matplotlib in /home/rikard/WORK/poisson_tools/venv/lib/python3.6/site-packages (3.1.0)\n",
      "Requirement already satisfied: numpy>=1.11 in /home/rikard/WORK/poisson_tools/venv/lib/python3.6/site-packages (from matplotlib) (1.16.3)\n",
      "Requirement already satisfied: cycler>=0.10 in /home/rikard/WORK/poisson_tools/venv/lib/python3.6/site-packages (from matplotlib) (0.10.0)\n",
      "Requirement already satisfied: kiwisolver>=1.0.1 in /home/rikard/WORK/poisson_tools/venv/lib/python3.6/site-packages (from matplotlib) (1.1.0)\n",
      "Requirement already satisfied: python-dateutil>=2.1 in /home/rikard/WORK/poisson_tools/venv/lib/python3.6/site-packages (from matplotlib) (2.8.0)\n",
      "Requirement already satisfied: pyparsing!=2.0.4,!=2.1.2,!=2.1.6,>=2.0.1 in /home/rikard/WORK/poisson_tools/venv/lib/python3.6/site-packages (from matplotlib) (2.4.0)\n",
      "Requirement already satisfied: six in /home/rikard/WORK/poisson_tools/venv/lib/python3.6/site-packages (from cycler>=0.10->matplotlib) (1.12.0)\n",
      "Requirement already satisfied: setuptools in /home/rikard/WORK/poisson_tools/venv/lib/python3.6/site-packages (from kiwisolver>=1.0.1->matplotlib) (41.0.1)\n"
     ]
    }
   ],
   "source": [
    "# Enable importing the local module\n",
    "import os\n",
    "import sys\n",
    "module_path = os.path.abspath(os.path.join('..'))\n",
    "if module_path not in sys.path:\n",
    "    sys.path.append(module_path)\n",
    "\n",
    "# Needed for visualizing\n",
    "!pip install matplotlib\n",
    "    \n",
    "# Imports required for the demo\n",
    "from poisson_tools import frequentist, central_bayesian\n",
    "\n",
    "import numpy as np\n",
    "import matplotlib.pyplot as plt"
   ]
  },
  {
   "cell_type": "code",
   "execution_count": 2,
   "metadata": {},
   "outputs": [],
   "source": [
    "x = np.arange(0, 6)\n",
    "y = x"
   ]
  },
  {
   "cell_type": "code",
   "execution_count": 3,
   "metadata": {},
   "outputs": [
    {
     "data": {
      "image/png": "[encoded data removed]",
      "text/plain": [
       "<Figure size 864x576 with 1 Axes>"
      ]
     },
     "metadata": {
      "needs_background": "light"
     },
     "output_type": "display_data"
    }
   ],
   "source": [
    "fig = plt.figure(figsize=(12,8))\n",
    "ax = fig.subplots()\n",
    "fr = ax.errorbar(x-0.1, y, yerr=frequentist.statistical_uncertainty(y), fmt='o')\n",
    "cb = ax.errorbar(x+0.1, y, yerr=central_bayesian.statistical_uncertainty(y), fmt='o')\n",
    "ax.legend((fr, cb), ('Frequentist', 'Central Bayesian'), loc='upper left');"
   ]
  },
  {
   "cell_type": "code",
   "execution_count": null,
   "metadata": {},
   "outputs": [],
   "source": []
  }
 ],
 "metadata": {
  "kernelspec": {
   "display_name": "venv",
   "language": "python",
   "name": "venv"
  },
  "language_info": {
   "codemirror_mode": {
    "name": "ipython",
    "version": 3
   },
   "file_extension": ".py",
   "mimetype": "text/x-python",
   "name": "python",
   "nbconvert_exporter": "python",
   "pygments_lexer": "ipython3",
   "version": "3.6.8"
  }
 },
 "nbformat": 4,
 "nbformat_minor": 2
}
